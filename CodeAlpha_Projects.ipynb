{
  "nbformat": 4,
  "nbformat_minor": 0,
  "metadata": {
    "colab": {
      "provenance": []
    },
    "kernelspec": {
      "name": "python3",
      "display_name": "Python 3"
    },
    "language_info": {
      "name": "python"
    }
  },
  "cells": [
    
    {
      "cell_type": "code",
      "source": [
        "\n",
        "#importing necessary libraries for the project\n",
        "\n",
        "import numpy as np\n",
        "import pandas as pd\n",
        "from sklearn.model_selection import train_test_split\n",
        "from sklearn.linear_model import LogisticRegression\n",
        "from sklearn.metrics import accuracy_score, precision_score, recall_score, f1_score\n",
        "import matplotlib.pyplot as plt\n",
        "from sklearn.preprocessing import LabelEncoder,StandardScaler\n",
        "\n",
        "#uploading the dataset\n",
        "\n",
        "data = pd.read_csv(\"/content/Titanic-Dataset.csv\")\n",
        "\n",
        "\n",
        "#Data Preprocessing\n",
        "\n",
        "#Filling Out Empty Values\n",
        "\n",
        "data[\"Age\"].fillna(data[\"Age\"].median(), inplace=True) #This fills the empty fields in Embarked data by the median data\n",
        "data[\"Embarked\"].fillna(data[\"Embarked\"].mode()[0], inplace = True) #This fills the empty fields in Embarked data by first mode\n",
        "\n",
        "\n",
        "# Binding Categorical Vairbales\n",
        "label_enc=LabelEncoder()\n",
        "data[\"Sex\"]=label_enc.fit_transform(data[\"Sex\"])\n",
        "data[\"Embarked\"]=label_enc.fit_transform(data[\"Embarked\"])\n",
        "\n",
        "#select features and target variables\n",
        "features=[\"Pclass\",\"Sex\",\"Age\",\"SibSp\",\"Parch\",\"Fare\",\"Embarked\"]\n",
        "\n",
        "x=data[features] #The prediction is based on this data\n",
        "\n",
        "y=data[\"Survived\"] #This is the targetted data which we want to see how it goes\n",
        "\n",
        "\n",
        "#split data into trainning and testing sets\n",
        "x_train,x_test,y_train,y_test= train_test_split(x,y, test_size=0.2, random_state=42)\n",
        "\n",
        "#standarize the features\n",
        "scalar=StandardScaler()\n",
        "x_train = scalar.fit_transform(x_train)\n",
        "x_test = scalar.fit_transform(x_test)\n",
        "\n",
        "#build and train the model\n",
        "\n",
        "model=LogisticRegression()\n",
        "model.fit(x_train,y_train)\n",
        "\n",
        "# make predictions\n",
        "\n",
        "y_pred = model.predict(x_test)\n",
        "\n",
        "\n",
        "#Evaluate the model\n",
        "\n",
        "accuracy=accuracy_score(y_test,y_pred)\n",
        "precision=precision_score(y_test,y_pred)\n",
        "recall=recall_score(y_test,y_pred)\n",
        "f1=f1_score(y_test,y_pred)\n",
        "\n",
        "print(f\"Accuracy: {accuracy:.2f}\")\n",
        "print(f\"Precision: {precision:.2f}\")\n",
        "print(f\"Recall: {recall:.2f}\")\n",
        "print(f\"F1_score: {f1:.2f}\")\n",
        "\n",
        "\n",
        "#Interpret The Model\n",
        "\n",
        "coeffecients = pd.DataFrame(model.coef_[0],index=features,columns=[\"Coeffiecent\"])\n",
        "print(coeffecients)\n"
      ],
      "metadata": {
        "id": "FBdEWyrjiUAP",
        "colab": {
          "base_uri": "https://localhost:8080/"
        },
        "outputId": "e2763351-9dbd-4a5f-f478-d61a718cf157"
      },
      "execution_count": null,
      "outputs": [
        {
          "output_type": "stream",
          "name": "stdout",
          "text": [
            "Accuracy: 0.81\n",
            "Precision: 0.80\n",
            "Recall: 0.72\n",
            "F1_score: 0.76\n",
            "          Coeffiecent\n",
            "Pclass      -0.781927\n",
            "Sex         -1.278705\n",
            "Age         -0.395303\n",
            "SibSp       -0.349105\n",
            "Parch       -0.098565\n",
            "Fare         0.126362\n",
            "Embarked    -0.170937\n"
          ]
        }
      ]
    }
  ]
}